{
 "cells": [
  {
   "cell_type": "code",
   "execution_count": null,
   "metadata": {},
   "outputs": [],
   "source": [
    "df_buoy_ave['WindDir_rounded'] = pd.cut(df_buoy_ave['WindDir'],8)\n",
    "df_buoy_ave.boxplot(column = 'BGAPCShallowRFU', by = 'WindDir_rounded', figsize=[20, 8])"
   ]
  },
  {
   "cell_type": "code",
   "execution_count": null,
   "metadata": {},
   "outputs": [],
   "source": [
    "df_buoy_ave['WindDir_rounded'] = pd.cut(df_buoy_ave['WindDir_SMA_2'],12)\n",
    "df_buoy_ave.boxplot(column = 'BGAPCShallowRFU', by = 'WindDir_rounded', figsize=[20, 8])"
   ]
  },
  {
   "cell_type": "markdown",
   "metadata": {},
   "source": [
    "\n",
    "As a result of two above graphs, I think the same day wind direction makes much more sense because it shows a more significant relation with chla and I think it's because the wind effect is very quick"
   ]
  },
  {
   "cell_type": "code",
   "execution_count": null,
   "metadata": {},
   "outputs": [],
   "source": [
    "df_buoy_ave['Temp01_SMA_3_rounded'] = pd.cut(df_buoy_ave['Temp01_SMA_3'],10)\n",
    "df_buoy_ave.boxplot(column = 'BGAPCShallowRFU', by = 'Temp01_SMA_3_rounded', figsize=[20, 8])"
   ]
  },
  {
   "cell_type": "code",
   "execution_count": null,
   "metadata": {},
   "outputs": [],
   "source": []
  },
  {
   "cell_type": "markdown",
   "metadata": {},
   "source": [
    "below is an instance for wrong analysis. because PARW2 is itself dependant on chla we cannot seperate its effect  and being affected by chla from this graph. it seems that the decrase in fluoroscence is because of increasing in PAR but this is not that simple and par is itsellf being affectedd by chla which has relation ship with fluoroscence. so it is better to use parairflags instead of par in water."
   ]
  },
  {
   "cell_type": "code",
   "execution_count": null,
   "metadata": {},
   "outputs": [],
   "source": [
    "df_buoy_ave['PARW2_rounded'] = pd.cut(df_buoy_ave['PARW2'],10)\n",
    "df_buoy_ave.boxplot(column = 'BGAPCShallowRFU', by = 'PARW2_rounded', figsize=[20, 8])"
   ]
  },
  {
   "cell_type": "code",
   "execution_count": null,
   "metadata": {},
   "outputs": [],
   "source": []
  }
 ],
 "metadata": {
  "kernelspec": {
   "display_name": "Python 3",
   "language": "python",
   "name": "python3"
  },
  "language_info": {
   "codemirror_mode": {
    "name": "ipython",
    "version": 3
   },
   "file_extension": ".py",
   "mimetype": "text/x-python",
   "name": "python",
   "nbconvert_exporter": "python",
   "pygments_lexer": "ipython3",
   "version": "3.8.3"
  },
  "varInspector": {
   "cols": {
    "lenName": 16,
    "lenType": 16,
    "lenVar": 40
   },
   "kernels_config": {
    "python": {
     "delete_cmd_postfix": "",
     "delete_cmd_prefix": "del ",
     "library": "var_list.py",
     "varRefreshCmd": "print(var_dic_list())"
    },
    "r": {
     "delete_cmd_postfix": ") ",
     "delete_cmd_prefix": "rm(",
     "library": "var_list.r",
     "varRefreshCmd": "cat(var_dic_list()) "
    }
   },
   "types_to_exclude": [
    "module",
    "function",
    "builtin_function_or_method",
    "instance",
    "_Feature"
   ],
   "window_display": false
  }
 },
 "nbformat": 4,
 "nbformat_minor": 4
}
